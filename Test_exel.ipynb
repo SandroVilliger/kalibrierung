{
 "cells": [
  {
   "cell_type": "markdown",
   "source": [
    "### Programm für den Test von openpyxl"
   ],
   "metadata": {
    "collapsed": false,
    "pycharm": {
     "name": "#%% md\n"
    }
   }
  },
  {
   "cell_type": "markdown",
   "source": [
    "Import der Pakete.\n",
    "Es wird Pandas, Numpy, Matplotlib, Openpyxl und Pillow verwendet.\n",
    "Pillow wird benötigt, um Bilder einzufügen.\n",
    "\n"
   ],
   "metadata": {
    "collapsed": false,
    "pycharm": {
     "name": "#%% md\n"
    }
   }
  },
  {
   "cell_type": "code",
   "execution_count": 275,
   "outputs": [],
   "source": [
    "import pandas as pd\n",
    "import numpy as np\n",
    "import matplotlib.pyplot as plt\n",
    "from openpyxl import Workbook\n",
    "from openpyxl import worksheet\n",
    "from openpyxl.drawing.image import Image\n",
    "from openpyxl.styles import PatternFill, Border, Side, Alignment, Protection, Font\n",
    "import PIL"
   ],
   "metadata": {
    "collapsed": false,
    "pycharm": {
     "name": "#%%\n"
    }
   }
  },
  {
   "cell_type": "markdown",
   "source": [
    "Erstellen eines Excelfiles"
   ],
   "metadata": {
    "collapsed": false,
    "pycharm": {
     "name": "#%% md\n"
    }
   }
  },
  {
   "cell_type": "code",
   "execution_count": 276,
   "outputs": [],
   "source": [
    "wb=Workbook()"
   ],
   "metadata": {
    "collapsed": false,
    "pycharm": {
     "name": "#%%\n"
    }
   }
  },
  {
   "cell_type": "code",
   "execution_count": 277,
   "outputs": [],
   "source": [
    "ft = Font(name='Verdana',size=10)\n",
    "ft2 = Font(name='Verdana',size=8)"
   ],
   "metadata": {
    "collapsed": false,
    "pycharm": {
     "name": "#%%\n"
    }
   }
  },
  {
   "cell_type": "code",
   "execution_count": 278,
   "outputs": [],
   "source": [
    "ws=wb.active"
   ],
   "metadata": {
    "collapsed": false,
    "pycharm": {
     "name": "#%%\n"
    }
   }
  },
  {
   "cell_type": "code",
   "execution_count": 279,
   "outputs": [],
   "source": [
    "ws.title = 'Kalibrierung'"
   ],
   "metadata": {
    "collapsed": false,
    "pycharm": {
     "name": "#%%\n"
    }
   }
  },
  {
   "cell_type": "code",
   "execution_count": 280,
   "outputs": [],
   "source": [
    "ws.column_dimensions['G'].width=16"
   ],
   "metadata": {
    "collapsed": false,
    "pycharm": {
     "name": "#%%\n"
    }
   }
  },
  {
   "cell_type": "code",
   "execution_count": 281,
   "outputs": [],
   "source": [
    "ws.oddFooter.left.text = \"Seite &[Page] von &N\"\n",
    "ws.oddFooter.left.size = 11\n",
    "ws.oddFooter.left.font = \"Verdana\"\n"
   ],
   "metadata": {
    "collapsed": false,
    "pycharm": {
     "name": "#%%\n"
    }
   }
  },
  {
   "cell_type": "code",
   "execution_count": 282,
   "outputs": [],
   "source": [
    "img = Image('HSLU_Logo.png')\n",
    "img.height = 30\n",
    "img.width= 200\n",
    "img.anchor = 'H1'\n",
    "ws.add_image(img)"
   ],
   "metadata": {
    "collapsed": false,
    "pycharm": {
     "name": "#%%\n"
    }
   }
  },
  {
   "cell_type": "code",
   "execution_count": 282,
   "outputs": [],
   "source": [],
   "metadata": {
    "collapsed": false,
    "pycharm": {
     "name": "#%%\n"
    }
   }
  },
  {
   "cell_type": "code",
   "execution_count": 283,
   "outputs": [],
   "source": [
    "ws['A1']='Kalibrierschein'\n",
    "ws['A1'].font=Font(bold=True, underline='single',name='Verdana',size=16)"
   ],
   "metadata": {
    "collapsed": false,
    "pycharm": {
     "name": "#%%\n"
    }
   }
  },
  {
   "cell_type": "code",
   "execution_count": 284,
   "outputs": [],
   "source": [
    "ws['A4']='Kalibriergegenstand:'\n",
    "ws['A4'].font=ft\n",
    "ws['A5']='Typ:'\n",
    "ws['A5'].font=ft\n",
    "ws['A6']='Log.Nr.(STS 0209):'\n",
    "ws['A6'].font=ft\n",
    "ws['A7']='Serien NR:'\n",
    "ws['A7'].font=ft\n",
    "ws['A8']='Anzeigebereich:'\n",
    "ws['A8'].font=ft\n",
    "ws['A9']='Max. zul. Abweichung'\n",
    "ws['A9'].font=ft\n",
    "ws['A11']='Referenznormal:'\n",
    "ws['A11'].font=ft\n",
    "ws['A12']='Typ:'\n",
    "ws['A12'].font=ft\n",
    "ws['A13']='Log.Nr.:'\n",
    "ws['A13'].font=ft\n",
    "ws['A14']='Serien NR:'\n",
    "ws['A14'].font=ft\n",
    "ws['A16']='Datum der Kalibrierung:'\n",
    "ws['A16'].font=ft\n",
    "ws['A17']='Prüfer:'\n",
    "ws['A17'].font=ft"
   ],
   "metadata": {
    "collapsed": false,
    "pycharm": {
     "name": "#%%\n"
    }
   }
  },
  {
   "cell_type": "code",
   "execution_count": 285,
   "outputs": [],
   "source": [
    "ws['F5']='Temperatur:'\n",
    "ws['F6']='Rel. Luftfeuchte:'\n",
    "ws['F7']='Umgebungsdruck:'\n",
    "ws['F8']='Ort der Kalibrierung:'\n",
    "ws['F5'].font=ft\n",
    "ws['F6'].font=ft\n",
    "ws['F7'].font=ft\n",
    "ws['F8'].font=ft"
   ],
   "metadata": {
    "collapsed": false,
    "pycharm": {
     "name": "#%%\n"
    }
   }
  },
  {
   "cell_type": "code",
   "execution_count": 286,
   "outputs": [],
   "source": [
    "ws['A20']='Die Kalibrierung erfolgt nach der Verfahrensanweisung BAA08082 \"Kalibration Kraft\" nach dem '\n",
    "ws['A21']='Verfahren der DAkkS EA-4/02 M: 2013\"Ermittlung der Messunsicherheiten bei Kalibrierungen\" '\n",
    "ws['A20'].font=ft\n",
    "ws['A21'].font=ft\n"
   ],
   "metadata": {
    "collapsed": false,
    "pycharm": {
     "name": "#%%\n"
    }
   }
  },
  {
   "cell_type": "code",
   "execution_count": 287,
   "outputs": [],
   "source": [
    "ws['A23']='In der Abbildung 1 ist die gesamte Messung dargestellt.'\n",
    "ws['A23'].font=ft"
   ],
   "metadata": {
    "collapsed": false,
    "pycharm": {
     "name": "#%%\n"
    }
   }
  },
  {
   "cell_type": "code",
   "execution_count": 288,
   "outputs": [],
   "source": [
    "img = Image('Gesamte Messung.png')\n",
    "img.height = 375\n",
    "img.width= 600\n",
    "img.anchor = 'B25'\n",
    "ws.add_image(img)"
   ],
   "metadata": {
    "collapsed": false,
    "pycharm": {
     "name": "#%%\n"
    }
   }
  },
  {
   "cell_type": "code",
   "execution_count": 289,
   "outputs": [],
   "source": [
    "ws['C45']='Abbildung 1'\n",
    "ws['C45'].font=ft2"
   ],
   "metadata": {
    "collapsed": false,
    "pycharm": {
     "name": "#%%\n"
    }
   }
  },
  {
   "cell_type": "code",
   "execution_count": 290,
   "outputs": [],
   "source": [
    "wb.save('Test.xlsx')"
   ],
   "metadata": {
    "collapsed": false,
    "pycharm": {
     "name": "#%%\n"
    }
   }
  },
  {
   "cell_type": "code",
   "execution_count": 290,
   "outputs": [],
   "source": [],
   "metadata": {
    "collapsed": false,
    "pycharm": {
     "name": "#%%\n"
    }
   }
  }
 ],
 "metadata": {
  "kernelspec": {
   "display_name": "Python 3",
   "language": "python",
   "name": "python3"
  },
  "language_info": {
   "codemirror_mode": {
    "name": "ipython",
    "version": 2
   },
   "file_extension": ".py",
   "mimetype": "text/x-python",
   "name": "python",
   "nbconvert_exporter": "python",
   "pygments_lexer": "ipython2",
   "version": "2.7.6"
  }
 },
 "nbformat": 4,
 "nbformat_minor": 0
}