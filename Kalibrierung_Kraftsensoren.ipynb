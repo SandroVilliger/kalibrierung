{
 "cells": [
  {
   "cell_type": "markdown",
   "metadata": {
    "pycharm": {
     "name": "#%% md\n"
    }
   },
   "source": [
    "\\tableofcontents"
   ]
  },
  {
   "cell_type": "markdown",
   "metadata": {
    "pycharm": {
     "name": "#%% md\n"
    }
   },
   "source": [
    "# Kaliebrierung der Kraft Messdosen"
   ]
  },
  {
   "cell_type": "markdown",
   "metadata": {
    "pycharm": {
     "name": "#%% md\n"
    }
   },
   "source": [
    "## Mit diesem Programm werden die Kraftmessdosen Kallibiert"
   ]
  },
  {
   "cell_type": "markdown",
   "metadata": {
    "pycharm": {
     "name": "#%% md\n"
    }
   },
   "source": [
    "Import der Pakete"
   ]
  },
  {
   "cell_type": "code",
   "execution_count": null,
   "metadata": {
    "pycharm": {
     "name": "#%%\n"
    }
   },
   "outputs": [],
   "source": [
    "import pandas as pd\n",
    "import numpy as np\n",
    "import matplotlib.pyplot as plt"
   ]
  },
  {
   "cell_type": "markdown",
   "metadata": {
    "pycharm": {
     "name": "#%% md\n"
    }
   },
   "source": [
    "Im Nachfolgendenfeld muss der Link angegeben werden"
   ]
  },
  {
   "cell_type": "code",
   "execution_count": null,
   "metadata": {
    "pycharm": {
     "name": "#%%\n"
    }
   },
   "outputs": [],
   "source": [
    "file = 'Testlauf_2_Kraftgeregelt.XLSX'"
   ]
  },
  {
   "cell_type": "markdown",
   "metadata": {
    "pycharm": {
     "name": "#%% md\n"
    }
   },
   "source": [
    "#Für den Import des Excels müssen eine Varaiblen definiert werden. Danach kann das Excel mit Pandas importiert werden"
   ]
  },
  {
   "cell_type": "code",
   "execution_count": null,
   "metadata": {
    "pycharm": {
     "name": "#%%\n"
    }
   },
   "outputs": [],
   "source": [
    "name = ['Zeit', 'Referenz kN', 'Prüfling kN']\n",
    "data = pd.read_excel(file, header=None, names=name)"
   ]
  },
  {
   "cell_type": "markdown",
   "metadata": {
    "pycharm": {
     "name": "#%% md\n"
    }
   },
   "source": [
    "Im Nächsten Schritt werden die ersten Zeilen gelöscht."
   ]
  },
  {
   "cell_type": "code",
   "execution_count": null,
   "metadata": {
    "pycharm": {
     "name": "#%%\n"
    }
   },
   "outputs": [],
   "source": [
    "delet = np.arange(0, 49, 1)\n",
    "Werte = data.drop(delet, axis=0)"
   ]
  },
  {
   "cell_type": "code",
   "execution_count": null,
   "metadata": {
    "pycharm": {
     "name": "#%%\n"
    }
   },
   "outputs": [],
   "source": [
    "Werte"
   ]
  },
  {
   "cell_type": "markdown",
   "metadata": {
    "pycharm": {
     "name": "#%% md\n"
    }
   },
   "source": [
    "Als nächstes werden die Spalten komplet in Numpy geladen."
   ]
  },
  {
   "cell_type": "code",
   "execution_count": null,
   "metadata": {
    "pycharm": {
     "name": "#%%\n"
    }
   },
   "outputs": [],
   "source": [
    "Zeit = np.round(np.array(Werte['Zeit'], dtype='float64'), 1)\n",
    "Referenz = np.array(Werte['Referenz kN'], dtype='float64')\n",
    "Prüfling = np.array(Werte['Prüfling kN'], dtype='float64')"
   ]
  },
  {
   "cell_type": "markdown",
   "metadata": {
    "pycharm": {
     "name": "#%% md\n"
    }
   },
   "source": [
    "Es muss nun von Hand definert werden, ob es ein Zug oder Druckversuch ist.\n",
    "Zugversuch = 1\n",
    "Druckversuch = 2\n"
   ]
  },
  {
   "cell_type": "code",
   "execution_count": null,
   "metadata": {
    "pycharm": {
     "name": "#%%\n"
    }
   },
   "outputs": [],
   "source": [
    "Versuch = 0"
   ]
  },
  {
   "cell_type": "markdown",
   "metadata": {
    "pycharm": {
     "name": "#%% md\n"
    }
   },
   "source": [
    "Nun wird die Maximalkraft definiert. Diese wird immer Positiv eingegeben. Für die spätere Berechnung wird positiv oder negativ automatisch definiert."
   ]
  },
  {
   "cell_type": "code",
   "execution_count": null,
   "metadata": {
    "pycharm": {
     "name": "#%%\n"
    }
   },
   "outputs": [],
   "source": [
    "F_max = 2\n",
    "if Versuch == 0:\n",
    "    F_max = F_max * -1\n",
    "else:\n",
    "    F_max = F_max * 1"
   ]
  },
  {
   "cell_type": "markdown",
   "metadata": {
    "pycharm": {
     "name": "#%% md\n"
    }
   },
   "source": [
    "Plot der gesamten Versuchsreihe für die Referenzmessdose"
   ]
  },
  {
   "cell_type": "code",
   "execution_count": null,
   "metadata": {
    "pycharm": {
     "name": "#%%\n"
    }
   },
   "outputs": [],
   "source": [
    "y_Beschriftung = np.linspace(0, F_max, num=5)\n",
    "plt.figure(figsize=(8, 5), dpi=300)\n",
    "plt.plot(Zeit,Referenz,color='black')\n",
    "plt.hlines(0,min(Zeit),max(Zeit),colors='grey')\n",
    "plt.vlines(min(Zeit),0,F_max,colors='grey')\n",
    "plt.title('Versuchsablauf Referenznormal', pad=12,fontsize=12)\n",
    "plt.xlabel('Zeit [s]' ,fontsize=12,)\n",
    "plt.ylabel('Kraft [kN]' ,fontsize=12,)\n",
    "plt.yticks(y_Beschriftung)\n",
    "plt.show()"
   ]
  },
  {
   "cell_type": "markdown",
   "metadata": {
    "pycharm": {
     "name": "#%% md\n"
    }
   },
   "source": [
    "Die Laststufen für die Berechnung"
   ]
  },
  {
   "cell_type": "code",
   "execution_count": null,
   "metadata": {
    "pycharm": {
     "name": "#%%\n"
    }
   },
   "outputs": [],
   "source": [
    "Stufen = np.array([0.125, 0.25, 0.375, 0.5, 0.675, 0.75, 0.75, 0.875, 1])\n",
    "Laststufen = F_max * Stufen"
   ]
  },
  {
   "cell_type": "markdown",
   "metadata": {
    "pycharm": {
     "name": "#%% md\n"
    }
   },
   "source": [
    "Leere Listen"
   ]
  },
  {
   "cell_type": "code",
   "execution_count": null,
   "metadata": {
    "pycharm": {
     "name": "#%%\n"
    }
   },
   "outputs": [],
   "source": [
    "Mittelwerte_Refernz = [[], [], [], [], [], [], [], [], []]\n",
    "Mittelwerte_Prüfling = [[], [], [], [], [], [], [], [], []]"
   ]
  },
  {
   "cell_type": "markdown",
   "metadata": {
    "pycharm": {
     "name": "#%% md\n"
    }
   },
   "source": [
    "Berechnung der Mittelwerte für einzelne Laststufe"
   ]
  },
  {
   "cell_type": "code",
   "execution_count": null,
   "metadata": {
    "pycharm": {
     "name": "#%%\n"
    }
   },
   "outputs": [],
   "source": [
    "for x in range(len(Laststufen)):\n",
    "    Werte_F = Werte[(Werte['Referenz kN'] >= Laststufen[x] - 0.01) & (Werte['Referenz kN'] <= Laststufen[x] + 0.01)]\n",
    "    Werte_F_index = Werte[\n",
    "        (Werte['Referenz kN'] >= Laststufen[x] - 0.01) & (Werte['Referenz kN'] <= Laststufen[x] + 0.01)].index.values\n",
    "    res = np.where(Werte_F_index[:-1] + 1 != Werte_F_index[1:])[0]\n",
    "\n",
    "    res = res[res > 10]\n",
    "\n",
    "    X_max_1 = Werte_F[:res[0] + 1]\n",
    "    X_max_2 = Werte_F[res[0] + 1:res[1] + 1]\n",
    "    X_max_3 = Werte_F[res[1] + 1:res[2] + 1]\n",
    "    X_max_4 = Werte_F[res[2] + 1:]\n",
    "    Mittelwert = X_max_4.mean()\n",
    "\n",
    "    Mittelwerte_Refernz[x].append(X_max_1.mean()[1])\n",
    "    Mittelwerte_Refernz[x].append(X_max_2.mean()[1])\n",
    "    Mittelwerte_Refernz[x].append(X_max_3.mean()[1])\n",
    "    Mittelwerte_Refernz[x].append(X_max_4.mean()[1])\n",
    "\n",
    "    Mittelwerte_Prüfling[x].append(X_max_1.mean()[2])\n",
    "    Mittelwerte_Prüfling[x].append(X_max_2.mean()[2])\n",
    "    Mittelwerte_Prüfling[x].append(X_max_3.mean()[2])\n",
    "    Mittelwerte_Prüfling[x].append(X_max_4.mean()[2])\n",
    "\n",
    "Mittelwerte_Refernz = np.array(Mittelwerte_Refernz)\n",
    "Mittelwerte_Prüfling = np.array(Mittelwerte_Prüfling)"
   ]
  },
  {
   "cell_type": "markdown",
   "metadata": {
    "pycharm": {
     "name": "#%% md\n"
    }
   },
   "source": [
    "Mittelwert über die Referenzmessdose"
   ]
  },
  {
   "cell_type": "code",
   "execution_count": null,
   "metadata": {
    "pycharm": {
     "name": "#%%\n"
    }
   },
   "outputs": [],
   "source": [
    "Mittelwerte_Refernz"
   ]
  },
  {
   "cell_type": "markdown",
   "metadata": {
    "pycharm": {
     "name": "#%% md\n"
    }
   },
   "source": [
    "Mittelwert über die zu Prüfendemessdose"
   ]
  },
  {
   "cell_type": "code",
   "execution_count": null,
   "metadata": {
    "pycharm": {
     "name": "#%%\n"
    }
   },
   "outputs": [],
   "source": [
    "Mittelwerte_Prüfling"
   ]
  },
  {
   "cell_type": "markdown",
   "metadata": {
    "pycharm": {
     "name": "#%% md\n"
    }
   },
   "source": [
    "Mittelwert über die komplete Laststufe"
   ]
  },
  {
   "cell_type": "code",
   "execution_count": null,
   "metadata": {
    "pycharm": {
     "name": "#%%\n"
    }
   },
   "outputs": [],
   "source": [
    "Refernz_mean = np.mean(Mittelwerte_Refernz, axis=1)\n",
    "Prüfling_mean = np.mean(Mittelwerte_Prüfling, axis=1)"
   ]
  },
  {
   "cell_type": "markdown",
   "metadata": {
    "pycharm": {
     "name": "#%% md\n"
    }
   },
   "source": [
    "Mittelwert über die Referenzmessdose"
   ]
  },
  {
   "cell_type": "markdown",
   "metadata": {
    "pycharm": {
     "name": "#%% md\n"
    }
   },
   "source": [
    "Refernz_mean"
   ]
  },
  {
   "cell_type": "markdown",
   "metadata": {
    "pycharm": {
     "name": "#%% md\n"
    }
   },
   "source": [
    "Mittelwert über die zu Prüfendemessdose"
   ]
  },
  {
   "cell_type": "code",
   "execution_count": null,
   "metadata": {
    "pycharm": {
     "name": "#%%\n"
    }
   },
   "outputs": [],
   "source": [
    "Prüfling_mean"
   ]
  },
  {
   "cell_type": "markdown",
   "metadata": {
    "pycharm": {
     "name": "#%% md\n"
    }
   },
   "source": [
    "Berechnung der Relativen Abweichung"
   ]
  },
  {
   "cell_type": "code",
   "execution_count": null,
   "metadata": {
    "pycharm": {
     "name": "#%%\n"
    }
   },
   "outputs": [],
   "source": [
    "A = ((Refernz_mean - Prüfling_mean) / F_max) * 100"
   ]
  },
  {
   "cell_type": "code",
   "execution_count": null,
   "metadata": {
    "pycharm": {
     "name": "#%%\n"
    }
   },
   "outputs": [],
   "source": [
    "A"
   ]
  },
  {
   "cell_type": "code",
   "execution_count": null,
   "metadata": {
    "pycharm": {
     "name": "#%%\n"
    }
   },
   "outputs": [],
   "source": []
  }
 ],
 "metadata": {
  "kernelspec": {
   "display_name": "Python 3 (ipykernel)",
   "language": "python",
   "name": "python3"
  },
  "language_info": {
   "codemirror_mode": {
    "name": "ipython",
    "version": 3
   },
   "file_extension": ".py",
   "mimetype": "text/x-python",
   "name": "python",
   "nbconvert_exporter": "python",
   "pygments_lexer": "ipython3",
   "version": "3.9.7"
  }
 },
 "nbformat": 4,
 "nbformat_minor": 1
}